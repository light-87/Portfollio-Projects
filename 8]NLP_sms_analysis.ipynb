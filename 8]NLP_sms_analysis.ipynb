{
 "cells": [
  {
   "cell_type": "code",
   "execution_count": 78,
   "id": "1a5ddc55",
   "metadata": {},
   "outputs": [],
   "source": [
    "import pandas as pd\n",
    "import seaborn as sns\n",
    "from textblob import TextBlob\n",
    "import nltk, re\n",
    "from nltk.corpus import wordnet\n",
    "from nltk.corpus import stopwords\n",
    "from nltk.tokenize import word_tokenize\n",
    "from nltk.stem import WordNetLemmatizer\n",
    "from collections import Counter\n",
    "from sklearn.feature_extraction.text import CountVectorizer, TfidfVectorizer ,TfidfTransformer\n",
    "import seaborn as sns\n",
    "from numpy import argsort, asarray, array"
   ]
  },
  {
   "cell_type": "code",
   "execution_count": 2,
   "id": "135a1125",
   "metadata": {},
   "outputs": [
    {
     "data": {
      "text/html": [
       "<div>\n",
       "<style scoped>\n",
       "    .dataframe tbody tr th:only-of-type {\n",
       "        vertical-align: middle;\n",
       "    }\n",
       "\n",
       "    .dataframe tbody tr th {\n",
       "        vertical-align: top;\n",
       "    }\n",
       "\n",
       "    .dataframe thead th {\n",
       "        text-align: right;\n",
       "    }\n",
       "</style>\n",
       "<table border=\"1\" class=\"dataframe\">\n",
       "  <thead>\n",
       "    <tr style=\"text-align: right;\">\n",
       "      <th></th>\n",
       "      <th>Unnamed: 0</th>\n",
       "      <th>id</th>\n",
       "      <th>Message</th>\n",
       "      <th>length</th>\n",
       "      <th>country</th>\n",
       "      <th>Date</th>\n",
       "    </tr>\n",
       "  </thead>\n",
       "  <tbody>\n",
       "    <tr>\n",
       "      <th>0</th>\n",
       "      <td>0</td>\n",
       "      <td>10120</td>\n",
       "      <td>Bugis oso near wat...</td>\n",
       "      <td>21</td>\n",
       "      <td>SG</td>\n",
       "      <td>2003/4</td>\n",
       "    </tr>\n",
       "    <tr>\n",
       "      <th>1</th>\n",
       "      <td>1</td>\n",
       "      <td>10121</td>\n",
       "      <td>Go until jurong point, crazy.. Available only ...</td>\n",
       "      <td>111</td>\n",
       "      <td>SG</td>\n",
       "      <td>2003/4</td>\n",
       "    </tr>\n",
       "    <tr>\n",
       "      <th>2</th>\n",
       "      <td>2</td>\n",
       "      <td>10122</td>\n",
       "      <td>I dunno until when... Lets go learn pilates...</td>\n",
       "      <td>46</td>\n",
       "      <td>SG</td>\n",
       "      <td>2003/4</td>\n",
       "    </tr>\n",
       "    <tr>\n",
       "      <th>3</th>\n",
       "      <td>3</td>\n",
       "      <td>10123</td>\n",
       "      <td>Den only weekdays got special price... Haiz......</td>\n",
       "      <td>140</td>\n",
       "      <td>SG</td>\n",
       "      <td>2003/4</td>\n",
       "    </tr>\n",
       "    <tr>\n",
       "      <th>4</th>\n",
       "      <td>4</td>\n",
       "      <td>10124</td>\n",
       "      <td>Meet after lunch la...</td>\n",
       "      <td>22</td>\n",
       "      <td>SG</td>\n",
       "      <td>2003/4</td>\n",
       "    </tr>\n",
       "  </tbody>\n",
       "</table>\n",
       "</div>"
      ],
      "text/plain": [
       "   Unnamed: 0     id                                            Message  \\\n",
       "0           0  10120                              Bugis oso near wat...   \n",
       "1           1  10121  Go until jurong point, crazy.. Available only ...   \n",
       "2           2  10122     I dunno until when... Lets go learn pilates...   \n",
       "3           3  10123  Den only weekdays got special price... Haiz......   \n",
       "4           4  10124                             Meet after lunch la...   \n",
       "\n",
       "  length country    Date  \n",
       "0     21      SG  2003/4  \n",
       "1    111      SG  2003/4  \n",
       "2     46      SG  2003/4  \n",
       "3    140      SG  2003/4  \n",
       "4     22      SG  2003/4  "
      ]
     },
     "execution_count": 2,
     "metadata": {},
     "output_type": "execute_result"
    }
   ],
   "source": [
    "df = pd.read_csv('clean_nus_sms.csv')\n",
    "df.head()"
   ]
  },
  {
   "cell_type": "code",
   "execution_count": 3,
   "id": "717ac592",
   "metadata": {},
   "outputs": [
    {
     "name": "stdout",
     "output_type": "stream",
     "text": [
      "<class 'pandas.core.frame.DataFrame'>\n",
      "RangeIndex: 48598 entries, 0 to 48597\n",
      "Data columns (total 6 columns):\n",
      " #   Column      Non-Null Count  Dtype \n",
      "---  ------      --------------  ----- \n",
      " 0   Unnamed: 0  48598 non-null  int64 \n",
      " 1   id          48598 non-null  int64 \n",
      " 2   Message     48595 non-null  object\n",
      " 3   length      48598 non-null  object\n",
      " 4   country     48598 non-null  object\n",
      " 5   Date        48598 non-null  object\n",
      "dtypes: int64(2), object(4)\n",
      "memory usage: 2.2+ MB\n"
     ]
    }
   ],
   "source": [
    "df.info()"
   ]
  },
  {
   "cell_type": "code",
   "execution_count": 4,
   "id": "ced9d493",
   "metadata": {},
   "outputs": [
    {
     "data": {
      "text/html": [
       "<div>\n",
       "<style scoped>\n",
       "    .dataframe tbody tr th:only-of-type {\n",
       "        vertical-align: middle;\n",
       "    }\n",
       "\n",
       "    .dataframe tbody tr th {\n",
       "        vertical-align: top;\n",
       "    }\n",
       "\n",
       "    .dataframe thead th {\n",
       "        text-align: right;\n",
       "    }\n",
       "</style>\n",
       "<table border=\"1\" class=\"dataframe\">\n",
       "  <thead>\n",
       "    <tr style=\"text-align: right;\">\n",
       "      <th></th>\n",
       "      <th>Unnamed: 0</th>\n",
       "      <th>id</th>\n",
       "    </tr>\n",
       "  </thead>\n",
       "  <tbody>\n",
       "    <tr>\n",
       "      <th>count</th>\n",
       "      <td>48598.000000</td>\n",
       "      <td>48598.000000</td>\n",
       "    </tr>\n",
       "    <tr>\n",
       "      <th>mean</th>\n",
       "      <td>27138.722355</td>\n",
       "      <td>21106.315342</td>\n",
       "    </tr>\n",
       "    <tr>\n",
       "      <th>std</th>\n",
       "      <td>16206.056352</td>\n",
       "      <td>12189.313543</td>\n",
       "    </tr>\n",
       "    <tr>\n",
       "      <th>min</th>\n",
       "      <td>0.000000</td>\n",
       "      <td>1.000000</td>\n",
       "    </tr>\n",
       "    <tr>\n",
       "      <th>25%</th>\n",
       "      <td>12852.250000</td>\n",
       "      <td>12100.000000</td>\n",
       "    </tr>\n",
       "    <tr>\n",
       "      <th>50%</th>\n",
       "      <td>26916.500000</td>\n",
       "      <td>18553.000000</td>\n",
       "    </tr>\n",
       "    <tr>\n",
       "      <th>75%</th>\n",
       "      <td>40080.500000</td>\n",
       "      <td>29964.500000</td>\n",
       "    </tr>\n",
       "    <tr>\n",
       "      <th>max</th>\n",
       "      <td>55834.000000</td>\n",
       "      <td>45718.000000</td>\n",
       "    </tr>\n",
       "  </tbody>\n",
       "</table>\n",
       "</div>"
      ],
      "text/plain": [
       "         Unnamed: 0            id\n",
       "count  48598.000000  48598.000000\n",
       "mean   27138.722355  21106.315342\n",
       "std    16206.056352  12189.313543\n",
       "min        0.000000      1.000000\n",
       "25%    12852.250000  12100.000000\n",
       "50%    26916.500000  18553.000000\n",
       "75%    40080.500000  29964.500000\n",
       "max    55834.000000  45718.000000"
      ]
     },
     "execution_count": 4,
     "metadata": {},
     "output_type": "execute_result"
    }
   ],
   "source": [
    "df.describe()"
   ]
  },
  {
   "cell_type": "code",
   "execution_count": 5,
   "id": "710f69d0",
   "metadata": {},
   "outputs": [
    {
     "data": {
      "text/plain": [
       "3"
      ]
     },
     "execution_count": 5,
     "metadata": {},
     "output_type": "execute_result"
    }
   ],
   "source": [
    "df['Message'].isna().sum()"
   ]
  },
  {
   "cell_type": "code",
   "execution_count": 6,
   "id": "61cca521",
   "metadata": {},
   "outputs": [],
   "source": [
    "df = df.dropna(how='any',axis=0) "
   ]
  },
  {
   "cell_type": "code",
   "execution_count": 7,
   "id": "3538be76",
   "metadata": {},
   "outputs": [
    {
     "name": "stdout",
     "output_type": "stream",
     "text": [
      "5 nights...We nt staying at port step liao...Too ex\n"
     ]
    }
   ],
   "source": [
    "print(df['Message'][6])"
   ]
  },
  {
   "cell_type": "code",
   "execution_count": 8,
   "id": "5c94452c",
   "metadata": {},
   "outputs": [
    {
     "name": "stdout",
     "output_type": "stream",
     "text": [
      "['SG' 'MY' 'India' 'Pakistan' 'United States' 'Canada' 'unknown' 'Serbia'\n",
      " 'United Kingdom' 'France' 'Singapore' 'China' 'Malaysia' 'Sri Lanka'\n",
      " 'Spain' 'Bangladesh' 'Philippines' 'Macedonia' 'Romania' 'Kenya'\n",
      " 'Slovenia' 'New Zealand' 'Nigeria' 'Ghana' 'Indonesia' 'Nepal' 'Morocco'\n",
      " 'USA' 'Lebanon' 'india' 'Trinidad and Tobago' 'INDIA' 'srilanka'\n",
      " 'jamaica' 'Hungary' 'Australia' 'Italia' 'BARBADOS' 'Turkey' 'UK']\n"
     ]
    }
   ],
   "source": [
    "print(df['country'].unique())"
   ]
  },
  {
   "cell_type": "code",
   "execution_count": 9,
   "id": "2a8c00ee",
   "metadata": {},
   "outputs": [
    {
     "name": "stdout",
     "output_type": "stream",
     "text": [
      "['2003/4' '2010/11' '2010/12' '2011/1' '2011/2' '2011/3' '2011/4' '2011/5'\n",
      " '2011/6' '2011/8' '2011/9' '2011/11' '2011/12' '2012/2' '2012/3' '2012/4'\n",
      " '2012/5' '2012/6' '2012/7' '2012/8' '2012/10' '2013/5' '2014/9' '2014/11'\n",
      " '2014/12' '2015/2' '2015/3']\n"
     ]
    }
   ],
   "source": [
    "print(df['Date'].unique())"
   ]
  },
  {
   "cell_type": "code",
   "execution_count": 10,
   "id": "c4e01149",
   "metadata": {},
   "outputs": [],
   "source": [
    "df.country = df['country'].str.lower()"
   ]
  },
  {
   "cell_type": "code",
   "execution_count": 11,
   "id": "debc4605",
   "metadata": {},
   "outputs": [],
   "source": [
    "df.country = df['country'].replace(['united states'],'usa')\n",
    "df.country = df['country'].replace(['sg'],'singapore')\n",
    "df.country = df['country'].replace(['my'],'malaysia')\n",
    "df.country = df['country'].replace(['united kingdom'],'uk')\n",
    "df.country = df['country'].replace(['united kingdom'],'uk')\n",
    "df.country = df['country'].replace(['italia'],'italy')\n",
    "df.country = df['country'].replace(['new zealand'],'newzealand')"
   ]
  },
  {
   "cell_type": "code",
   "execution_count": 12,
   "id": "8682cabd",
   "metadata": {},
   "outputs": [
    {
     "name": "stdout",
     "output_type": "stream",
     "text": [
      "['singapore' 'malaysia' 'india' 'pakistan' 'usa' 'canada' 'unknown'\n",
      " 'serbia' 'uk' 'france' 'china' 'sri lanka' 'spain' 'bangladesh'\n",
      " 'philippines' 'macedonia' 'romania' 'kenya' 'slovenia' 'newzealand'\n",
      " 'nigeria' 'ghana' 'indonesia' 'nepal' 'morocco' 'lebanon'\n",
      " 'trinidad and tobago' 'srilanka' 'jamaica' 'hungary' 'australia' 'italy'\n",
      " 'barbados' 'turkey']\n",
      "34\n"
     ]
    }
   ],
   "source": [
    "print(df['country'].unique())\n",
    "print(len(df['country'].unique()))"
   ]
  },
  {
   "cell_type": "code",
   "execution_count": 13,
   "id": "d6d7aab7",
   "metadata": {},
   "outputs": [
    {
     "name": "stdout",
     "output_type": "stream",
     "text": [
      "singapore              31817\n",
      "india                   7085\n",
      "usa                     5680\n",
      "sri lanka               1017\n",
      "malaysia                 767\n",
      "pakistan                 751\n",
      "unknown                  602\n",
      "canada                   198\n",
      "bangladesh               126\n",
      "china                    107\n",
      "philippines               67\n",
      "indonesia                 48\n",
      "uk                        40\n",
      "nepal                     39\n",
      "srilanka                  30\n",
      "hungary                   28\n",
      "serbia                    22\n",
      "kenya                     20\n",
      "ghana                     18\n",
      "italy                     10\n",
      "nigeria                   10\n",
      "newzealand                10\n",
      "trinidad and tobago       10\n",
      "turkey                    10\n",
      "lebanon                   10\n",
      "slovenia                  10\n",
      "macedonia                 10\n",
      "australia                  9\n",
      "romania                    9\n",
      "morocco                    9\n",
      "barbados                   8\n",
      "jamaica                    8\n",
      "france                     5\n",
      "spain                      5\n",
      "Name: country, dtype: int64\n"
     ]
    }
   ],
   "source": [
    "print(df['country'].value_counts())"
   ]
  },
  {
   "cell_type": "code",
   "execution_count": 14,
   "id": "dc72199d",
   "metadata": {},
   "outputs": [
    {
     "name": "stdout",
     "output_type": "stream",
     "text": [
      "singapore              31817\n",
      "india                   7085\n",
      "usa                     5680\n",
      "sri lanka               1017\n",
      "malaysia                 767\n",
      "pakistan                 751\n",
      "canada                   198\n",
      "bangladesh               126\n",
      "china                    107\n",
      "philippines               67\n",
      "indonesia                 48\n",
      "uk                        40\n",
      "nepal                     39\n",
      "srilanka                  30\n",
      "hungary                   28\n",
      "serbia                    22\n",
      "kenya                     20\n",
      "ghana                     18\n",
      "slovenia                  10\n",
      "nigeria                   10\n",
      "turkey                    10\n",
      "lebanon                   10\n",
      "italy                     10\n",
      "macedonia                 10\n",
      "newzealand                10\n",
      "trinidad and tobago       10\n",
      "morocco                    9\n",
      "romania                    9\n",
      "australia                  9\n",
      "jamaica                    8\n",
      "barbados                   8\n",
      "spain                      5\n",
      "france                     5\n",
      "Name: country, dtype: int64\n"
     ]
    }
   ],
   "source": [
    "df = df[df.country != 'unknown']\n",
    "print(df['country'].value_counts())"
   ]
  },
  {
   "cell_type": "code",
   "execution_count": 45,
   "id": "5e131fcf",
   "metadata": {},
   "outputs": [
    {
     "data": {
      "text/plain": [
       "(47993, 9)"
      ]
     },
     "execution_count": 45,
     "metadata": {},
     "output_type": "execute_result"
    }
   ],
   "source": [
    "df.shape"
   ]
  },
  {
   "cell_type": "code",
   "execution_count": 46,
   "id": "a0cf5592",
   "metadata": {},
   "outputs": [],
   "source": [
    "def sentiment_analysis(df):\n",
    "    def getSubjectivity(text):\n",
    "        return TextBlob(text).sentiment.subjectivity\n",
    "  \n",
    " #Create a function to get the polarity\n",
    "    def getPolarity(text):\n",
    "        return TextBlob(text).sentiment.polarity\n",
    "  \n",
    " #Create two new columns ‘Subjectivity’ & ‘Polarity’\n",
    "    print(df['Message'][0])\n",
    "    df['TextBlob_Subjectivity'] =  df['Message'].apply(getSubjectivity)\n",
    "    df['TextBlob_Polarity'] = df['Message'].apply(getPolarity)\n",
    "    def getAnalysis(score):\n",
    "        if score < 0:\n",
    "            return 'Negative'\n",
    "        elif score == 0:\n",
    "            return 'Neutral'\n",
    "        else:\n",
    "            return 'Positive'\n",
    "    df['TextBlob_Analysis'] = df['TextBlob_Polarity'].apply(getAnalysis)\n",
    "    return df"
   ]
  },
  {
   "cell_type": "code",
   "execution_count": 47,
   "id": "67bb9769",
   "metadata": {},
   "outputs": [
    {
     "name": "stdout",
     "output_type": "stream",
     "text": [
      "Bugis oso near wat...\n"
     ]
    },
    {
     "data": {
      "text/html": [
       "<div>\n",
       "<style scoped>\n",
       "    .dataframe tbody tr th:only-of-type {\n",
       "        vertical-align: middle;\n",
       "    }\n",
       "\n",
       "    .dataframe tbody tr th {\n",
       "        vertical-align: top;\n",
       "    }\n",
       "\n",
       "    .dataframe thead th {\n",
       "        text-align: right;\n",
       "    }\n",
       "</style>\n",
       "<table border=\"1\" class=\"dataframe\">\n",
       "  <thead>\n",
       "    <tr style=\"text-align: right;\">\n",
       "      <th></th>\n",
       "      <th>Unnamed: 0</th>\n",
       "      <th>id</th>\n",
       "      <th>Message</th>\n",
       "      <th>length</th>\n",
       "      <th>country</th>\n",
       "      <th>Date</th>\n",
       "      <th>TextBlob_Subjectivity</th>\n",
       "      <th>TextBlob_Polarity</th>\n",
       "      <th>TextBlob_Analysis</th>\n",
       "    </tr>\n",
       "  </thead>\n",
       "  <tbody>\n",
       "    <tr>\n",
       "      <th>0</th>\n",
       "      <td>0</td>\n",
       "      <td>10120</td>\n",
       "      <td>Bugis oso near wat...</td>\n",
       "      <td>21</td>\n",
       "      <td>singapore</td>\n",
       "      <td>2003/4</td>\n",
       "      <td>0.400000</td>\n",
       "      <td>0.100000</td>\n",
       "      <td>Positive</td>\n",
       "    </tr>\n",
       "    <tr>\n",
       "      <th>1</th>\n",
       "      <td>1</td>\n",
       "      <td>10121</td>\n",
       "      <td>Go until jurong point, crazy.. Available only ...</td>\n",
       "      <td>111</td>\n",
       "      <td>singapore</td>\n",
       "      <td>2003/4</td>\n",
       "      <td>0.762500</td>\n",
       "      <td>0.150000</td>\n",
       "      <td>Positive</td>\n",
       "    </tr>\n",
       "    <tr>\n",
       "      <th>2</th>\n",
       "      <td>2</td>\n",
       "      <td>10122</td>\n",
       "      <td>I dunno until when... Lets go learn pilates...</td>\n",
       "      <td>46</td>\n",
       "      <td>singapore</td>\n",
       "      <td>2003/4</td>\n",
       "      <td>0.000000</td>\n",
       "      <td>0.000000</td>\n",
       "      <td>Neutral</td>\n",
       "    </tr>\n",
       "    <tr>\n",
       "      <th>3</th>\n",
       "      <td>3</td>\n",
       "      <td>10123</td>\n",
       "      <td>Den only weekdays got special price... Haiz......</td>\n",
       "      <td>140</td>\n",
       "      <td>singapore</td>\n",
       "      <td>2003/4</td>\n",
       "      <td>0.785714</td>\n",
       "      <td>0.178571</td>\n",
       "      <td>Positive</td>\n",
       "    </tr>\n",
       "    <tr>\n",
       "      <th>4</th>\n",
       "      <td>4</td>\n",
       "      <td>10124</td>\n",
       "      <td>Meet after lunch la...</td>\n",
       "      <td>22</td>\n",
       "      <td>singapore</td>\n",
       "      <td>2003/4</td>\n",
       "      <td>0.000000</td>\n",
       "      <td>0.000000</td>\n",
       "      <td>Neutral</td>\n",
       "    </tr>\n",
       "    <tr>\n",
       "      <th>...</th>\n",
       "      <td>...</td>\n",
       "      <td>...</td>\n",
       "      <td>...</td>\n",
       "      <td>...</td>\n",
       "      <td>...</td>\n",
       "      <td>...</td>\n",
       "      <td>...</td>\n",
       "      <td>...</td>\n",
       "      <td>...</td>\n",
       "    </tr>\n",
       "    <tr>\n",
       "      <th>48593</th>\n",
       "      <td>55828</td>\n",
       "      <td>45712</td>\n",
       "      <td>Come to me AFTER NOON</td>\n",
       "      <td>21</td>\n",
       "      <td>serbia</td>\n",
       "      <td>2015/3</td>\n",
       "      <td>0.000000</td>\n",
       "      <td>0.000000</td>\n",
       "      <td>Neutral</td>\n",
       "    </tr>\n",
       "    <tr>\n",
       "      <th>48594</th>\n",
       "      <td>55830</td>\n",
       "      <td>45714</td>\n",
       "      <td>I LOVE YOU TOO</td>\n",
       "      <td>14</td>\n",
       "      <td>serbia</td>\n",
       "      <td>2015/3</td>\n",
       "      <td>0.600000</td>\n",
       "      <td>0.500000</td>\n",
       "      <td>Positive</td>\n",
       "    </tr>\n",
       "    <tr>\n",
       "      <th>48595</th>\n",
       "      <td>55831</td>\n",
       "      <td>45715</td>\n",
       "      <td>C-YA</td>\n",
       "      <td>4</td>\n",
       "      <td>serbia</td>\n",
       "      <td>2015/3</td>\n",
       "      <td>0.000000</td>\n",
       "      <td>0.000000</td>\n",
       "      <td>Neutral</td>\n",
       "    </tr>\n",
       "    <tr>\n",
       "      <th>48596</th>\n",
       "      <td>55833</td>\n",
       "      <td>45717</td>\n",
       "      <td>BE MY GUEST</td>\n",
       "      <td>11</td>\n",
       "      <td>serbia</td>\n",
       "      <td>2015/3</td>\n",
       "      <td>0.000000</td>\n",
       "      <td>0.000000</td>\n",
       "      <td>Neutral</td>\n",
       "    </tr>\n",
       "    <tr>\n",
       "      <th>48597</th>\n",
       "      <td>55834</td>\n",
       "      <td>45718</td>\n",
       "      <td>MANY MANY MANY PEOPLE</td>\n",
       "      <td>21</td>\n",
       "      <td>serbia</td>\n",
       "      <td>2015/3</td>\n",
       "      <td>0.500000</td>\n",
       "      <td>0.500000</td>\n",
       "      <td>Positive</td>\n",
       "    </tr>\n",
       "  </tbody>\n",
       "</table>\n",
       "<p>47993 rows × 9 columns</p>\n",
       "</div>"
      ],
      "text/plain": [
       "       Unnamed: 0     id                                            Message  \\\n",
       "0               0  10120                              Bugis oso near wat...   \n",
       "1               1  10121  Go until jurong point, crazy.. Available only ...   \n",
       "2               2  10122     I dunno until when... Lets go learn pilates...   \n",
       "3               3  10123  Den only weekdays got special price... Haiz......   \n",
       "4               4  10124                             Meet after lunch la...   \n",
       "...           ...    ...                                                ...   \n",
       "48593       55828  45712                              Come to me AFTER NOON   \n",
       "48594       55830  45714                                     I LOVE YOU TOO   \n",
       "48595       55831  45715                                               C-YA   \n",
       "48596       55833  45717                                        BE MY GUEST   \n",
       "48597       55834  45718                              MANY MANY MANY PEOPLE   \n",
       "\n",
       "      length    country    Date  TextBlob_Subjectivity  TextBlob_Polarity  \\\n",
       "0         21  singapore  2003/4               0.400000           0.100000   \n",
       "1        111  singapore  2003/4               0.762500           0.150000   \n",
       "2         46  singapore  2003/4               0.000000           0.000000   \n",
       "3        140  singapore  2003/4               0.785714           0.178571   \n",
       "4         22  singapore  2003/4               0.000000           0.000000   \n",
       "...      ...        ...     ...                    ...                ...   \n",
       "48593     21     serbia  2015/3               0.000000           0.000000   \n",
       "48594     14     serbia  2015/3               0.600000           0.500000   \n",
       "48595      4     serbia  2015/3               0.000000           0.000000   \n",
       "48596     11     serbia  2015/3               0.000000           0.000000   \n",
       "48597     21     serbia  2015/3               0.500000           0.500000   \n",
       "\n",
       "      TextBlob_Analysis  \n",
       "0              Positive  \n",
       "1              Positive  \n",
       "2               Neutral  \n",
       "3              Positive  \n",
       "4               Neutral  \n",
       "...                 ...  \n",
       "48593           Neutral  \n",
       "48594          Positive  \n",
       "48595           Neutral  \n",
       "48596           Neutral  \n",
       "48597          Positive  \n",
       "\n",
       "[47993 rows x 9 columns]"
      ]
     },
     "execution_count": 47,
     "metadata": {},
     "output_type": "execute_result"
    }
   ],
   "source": [
    "sentiment_analysis(df)"
   ]
  },
  {
   "cell_type": "code",
   "execution_count": 75,
   "id": "863b23c8",
   "metadata": {},
   "outputs": [
    {
     "data": {
      "text/plain": [
       "<AxesSubplot:xlabel='TextBlob_Analysis', ylabel='Count'>"
      ]
     },
     "execution_count": 75,
     "metadata": {},
     "output_type": "execute_result"
    },
    {
     "data": {
      "image/png": "[encoded data removed]",
      "text/plain": [
       "<Figure size 432x288 with 1 Axes>"
      ]
     },
     "metadata": {
      "needs_background": "light"
     },
     "output_type": "display_data"
    }
   ],
   "source": [
    "sns.set_palette(sns.color_palette(\"RdBu\", 10))\n",
    "sns.histplot(df.TextBlob_Analysis)"
   ]
  },
  {
   "cell_type": "code",
   "execution_count": 48,
   "id": "aa21acdf",
   "metadata": {},
   "outputs": [],
   "source": [
    "stop_words = stopwords.words('english')\n",
    "extrawords= [\"haha\",\"lol\",\"ok\",\"u\",\"im\",\"okay\",\"hahaha\",\"ur\",\"2\",\"one\",\"oh\",\"hey\",\"like\",\"le\",\"dont\",\"yeah\",\"wan\",\"still\",\"later\",\"sorry\",\"hi\",\"also\",\"na\",\"ya\",\"eh\",\"thanks\",\"e\",\"lor\",\"r\",\"n\",\"ah\",\"4\",\"wat\",\"k\",\"leh\",\"really\",\"dun\",\"lah\",\"la\"]\n",
    "stop_words.extend(extrawords)\n",
    "normalizer = WordNetLemmatizer()\n",
    "\n",
    "def get_part_of_speech(word):\n",
    "  probable_part_of_speech = wordnet.synsets(word)\n",
    "  pos_counts = Counter()\n",
    "  pos_counts[\"n\"] = len(  [ item for item in probable_part_of_speech if item.pos()==\"n\"]  )\n",
    "  pos_counts[\"v\"] = len(  [ item for item in probable_part_of_speech if item.pos()==\"v\"]  )\n",
    "  pos_counts[\"a\"] = len(  [ item for item in probable_part_of_speech if item.pos()==\"a\"]  )\n",
    "  pos_counts[\"r\"] = len(  [ item for item in probable_part_of_speech if item.pos()==\"r\"]  )\n",
    "  most_likely_part_of_speech = pos_counts.most_common(1)[0][0]\n",
    "  return most_likely_part_of_speech\n",
    "\n",
    "def preprocess_text(text):\n",
    "  cleaned = re.sub(r'\\W+', ' ', text).lower()\n",
    "  tokenized = word_tokenize(cleaned)\n",
    "  normalized = [normalizer.lemmatize(token, get_part_of_speech(token)) for token in tokenized]\n",
    "  statement_no_stop = [word for word in normalized if word not in stop_words]\n",
    "\n",
    "  return statement_no_stop"
   ]
  },
  {
   "cell_type": "code",
   "execution_count": 49,
   "id": "ca5242e8",
   "metadata": {},
   "outputs": [
    {
     "name": "stdout",
     "output_type": "stream",
     "text": [
      "['go', 'jurong', 'point', 'crazy', 'available', 'bugis', 'great', 'world', 'buffet', 'cine', 'get', 'amore']\n"
     ]
    }
   ],
   "source": [
    "print(processed_text[1])"
   ]
  },
  {
   "cell_type": "code",
   "execution_count": 50,
   "id": "d96ee0be",
   "metadata": {},
   "outputs": [],
   "source": [
    "text_all =[]\n",
    "for i in df['Message']:\n",
    "    text_all.append(i)\n",
    "processed_text = [preprocess_text(i) for i in text_all]"
   ]
  },
  {
   "cell_type": "code",
   "execution_count": 51,
   "id": "6cd86218",
   "metadata": {},
   "outputs": [
    {
     "name": "stdout",
     "output_type": "stream",
     "text": [
      "[('go', 5341), ('get', 4190), ('come', 2207), ('time', 2166), ('late', 2056), ('think', 1835), ('meet', 1664), ('see', 1515), ('want', 1426), ('know', 1405)]\n"
     ]
    }
   ],
   "source": [
    "wordcounts= Counter([ele.lower() for sublst in processed_text for ele in sublst])\n",
    "most_common= wordcounts.most_common(10)\n",
    "print(most_common)"
   ]
  },
  {
   "cell_type": "code",
   "execution_count": 80,
   "id": "fa0183e4",
   "metadata": {},
   "outputs": [
    {
     "name": "stdout",
     "output_type": "stream",
     "text": [
      "['go' 'get' 'come' 'late' 'time' 'meet' 'think' 'see' 'call' 'home']\n"
     ]
    }
   ],
   "source": [
    "untokenized= [\" \".join(lst).lower() for lst in processed_text]\n",
    "vectorizer= TfidfVectorizer()\n",
    "tfidf=vectorizer.fit_transform(untokenized)\n",
    "\n",
    "#Finding 10 words with the highest tf-idf scores\n",
    "tfidf_feature_names = array(vectorizer.get_feature_names())\n",
    "importance = argsort(asarray(tfidf.sum(axis=0)).ravel())[::-1]\n",
    "top_10_words= tfidf_feature_names[importance[:10]]\n",
    "print(top_10_words)"
   ]
  },
  {
   "cell_type": "code",
   "execution_count": 86,
   "id": "9f06ac2c",
   "metadata": {},
   "outputs": [],
   "source": [
    "def getAnalysis(score):\n",
    "    if score < 0:\n",
    "        return 'Negative'\n",
    "    elif score == 0:\n",
    "        return 'Neutral'\n",
    "    else:\n",
    "        return 'Positive'\n"
   ]
  },
  {
   "cell_type": "code",
   "execution_count": 90,
   "id": "6de2b556",
   "metadata": {},
   "outputs": [
    {
     "name": "stdout",
     "output_type": "stream",
     "text": [
      "['Neutral', 'Neutral', 'Neutral', 'Negative', 'Neutral', 'Neutral', 'Neutral', 'Neutral', 'Neutral', 'Neutral']\n"
     ]
    },
    {
     "data": {
      "text/plain": [
       "<AxesSubplot:ylabel='Count'>"
      ]
     },
     "execution_count": 90,
     "metadata": {},
     "output_type": "execute_result"
    },
    {
     "data": {
      "image/png": "[encoded data removed]",
      "text/plain": [
       "<Figure size 432x288 with 1 Axes>"
      ]
     },
     "metadata": {
      "needs_background": "light"
     },
     "output_type": "display_data"
    }
   ],
   "source": [
    "top_10_score = [TextBlob(text).sentiment.polarity for text in top_10_words]\n",
    "top_10_analysis = [getAnalysis(i) for i in top_10_score]\n",
    "print(top_10_analysis)\n",
    "sns.histplot(top_10_analysis)"
   ]
  },
  {
   "cell_type": "markdown",
   "id": "d57fcbff",
   "metadata": {},
   "source": [
    "The 10 most frequent words across the corpus were:['go','get','come','time','think','see','want','know','need','take'].\n",
    "\n",
    "The 10 words with the highest tf-idf scores were: ['go', 'get', 'come', 'time', 'see', 'call', 'home', 'think','know', 'want'].\n",
    "\n",
    "Words such as \"go\", \"time\" and \"see\" suggest that many text messages are written to organise events such as meetups.\n",
    "\n",
    "Words such as \"call\" and \"home\" suggest that users like to know when to expect their loved ones to either arrive or return home.\n",
    "\n",
    "Words such as \"know\" and \"want\" suggest that users often request things through text messages."
   ]
  },
  {
   "cell_type": "code",
   "execution_count": null,
   "id": "85686f00",
   "metadata": {},
   "outputs": [],
   "source": []
  }
 ],
 "metadata": {
  "kernelspec": {
   "display_name": "Python 3",
   "language": "python",
   "name": "python3"
  },
  "language_info": {
   "codemirror_mode": {
    "name": "ipython",
    "version": 3
   },
   "file_extension": ".py",
   "mimetype": "text/x-python",
   "name": "python",
   "nbconvert_exporter": "python",
   "pygments_lexer": "ipython3",
   "version": "3.8.8"
  }
 },
 "nbformat": 4,
 "nbformat_minor": 5
}
